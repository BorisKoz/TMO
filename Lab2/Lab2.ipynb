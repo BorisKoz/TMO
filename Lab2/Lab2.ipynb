{
 "cells": [
  {
   "cell_type": "markdown",
   "metadata": {},
   "source": [
    "# Lab2 Кожуро Б Е"
   ]
  },
  {
   "cell_type": "markdown",
   "metadata": {},
   "source": [
    "Для работы был выбран датасет dc-wikia-data"
   ]
  },
  {
   "cell_type": "markdown",
   "metadata": {},
   "source": [
    "## Первичный анализ"
   ]
  },
  {
   "cell_type": "code",
   "execution_count": 1,
   "metadata": {},
   "outputs": [],
   "source": [
    "import numpy as np\n",
    "import pandas as pd\n",
    "import seaborn as sns\n",
    "import matplotlib.pyplot as plt\n",
    "%matplotlib inline \n",
    "sns.set(style=\"ticks\")"
   ]
  },
  {
   "cell_type": "code",
   "execution_count": 2,
   "metadata": {},
   "outputs": [],
   "source": [
    "data = pd.read_csv('dc-wikia-data.csv', sep=\",\")"
   ]
  },
  {
   "cell_type": "code",
   "execution_count": 3,
   "metadata": {},
   "outputs": [
    {
     "data": {
      "text/plain": [
       "(6896, 13)"
      ]
     },
     "execution_count": 3,
     "metadata": {},
     "output_type": "execute_result"
    }
   ],
   "source": [
    "data.shape"
   ]
  },
  {
   "cell_type": "code",
   "execution_count": 4,
   "metadata": {},
   "outputs": [
    {
     "data": {
      "text/plain": [
       "page_id               int64\n",
       "name                 object\n",
       "urlslug              object\n",
       "ID                   object\n",
       "ALIGN                object\n",
       "EYE                  object\n",
       "HAIR                 object\n",
       "SEX                  object\n",
       "GSM                  object\n",
       "ALIVE                object\n",
       "APPEARANCES         float64\n",
       "FIRST APPEARANCE     object\n",
       "YEAR                float64\n",
       "dtype: object"
      ]
     },
     "execution_count": 4,
     "metadata": {},
     "output_type": "execute_result"
    }
   ],
   "source": [
    "data.dtypes"
   ]
  },
  {
   "cell_type": "code",
   "execution_count": 5,
   "metadata": {},
   "outputs": [
    {
     "data": {
      "text/plain": [
       "page_id                0\n",
       "name                   0\n",
       "urlslug                0\n",
       "ID                  2013\n",
       "ALIGN                601\n",
       "EYE                 3628\n",
       "HAIR                2274\n",
       "SEX                  125\n",
       "GSM                 6832\n",
       "ALIVE                  3\n",
       "APPEARANCES          355\n",
       "FIRST APPEARANCE      69\n",
       "YEAR                  69\n",
       "dtype: int64"
      ]
     },
     "execution_count": 5,
     "metadata": {},
     "output_type": "execute_result"
    }
   ],
   "source": [
    "data.isnull().sum()"
   ]
  },
  {
   "cell_type": "code",
   "execution_count": 42,
   "metadata": {},
   "outputs": [
    {
     "data": {
      "text/html": [
       "<div>\n",
       "<style scoped>\n",
       "    .dataframe tbody tr th:only-of-type {\n",
       "        vertical-align: middle;\n",
       "    }\n",
       "\n",
       "    .dataframe tbody tr th {\n",
       "        vertical-align: top;\n",
       "    }\n",
       "\n",
       "    .dataframe thead th {\n",
       "        text-align: right;\n",
       "    }\n",
       "</style>\n",
       "<table border=\"1\" class=\"dataframe\">\n",
       "  <thead>\n",
       "    <tr style=\"text-align: right;\">\n",
       "      <th></th>\n",
       "      <th>page_id</th>\n",
       "      <th>name</th>\n",
       "      <th>urlslug</th>\n",
       "      <th>ID</th>\n",
       "      <th>ALIGN</th>\n",
       "      <th>EYE</th>\n",
       "      <th>HAIR</th>\n",
       "      <th>SEX</th>\n",
       "      <th>GSM</th>\n",
       "      <th>ALIVE</th>\n",
       "      <th>APPEARANCES</th>\n",
       "      <th>FIRST APPEARANCE</th>\n",
       "      <th>YEAR</th>\n",
       "    </tr>\n",
       "  </thead>\n",
       "  <tbody>\n",
       "    <tr>\n",
       "      <th>0</th>\n",
       "      <td>1422</td>\n",
       "      <td>Batman (Bruce Wayne)</td>\n",
       "      <td>\\/wiki\\/Batman_(Bruce_Wayne)</td>\n",
       "      <td>Secret Identity</td>\n",
       "      <td>Good Characters</td>\n",
       "      <td>Blue Eyes</td>\n",
       "      <td>Black Hair</td>\n",
       "      <td>Male Characters</td>\n",
       "      <td>NaN</td>\n",
       "      <td>Living Characters</td>\n",
       "      <td>3093.0</td>\n",
       "      <td>1939, May</td>\n",
       "      <td>1939.0</td>\n",
       "    </tr>\n",
       "    <tr>\n",
       "      <th>1</th>\n",
       "      <td>23387</td>\n",
       "      <td>Superman (Clark Kent)</td>\n",
       "      <td>\\/wiki\\/Superman_(Clark_Kent)</td>\n",
       "      <td>Secret Identity</td>\n",
       "      <td>Good Characters</td>\n",
       "      <td>Blue Eyes</td>\n",
       "      <td>Black Hair</td>\n",
       "      <td>Male Characters</td>\n",
       "      <td>NaN</td>\n",
       "      <td>Living Characters</td>\n",
       "      <td>2496.0</td>\n",
       "      <td>1986, October</td>\n",
       "      <td>1986.0</td>\n",
       "    </tr>\n",
       "    <tr>\n",
       "      <th>2</th>\n",
       "      <td>1458</td>\n",
       "      <td>Green Lantern (Hal Jordan)</td>\n",
       "      <td>\\/wiki\\/Green_Lantern_(Hal_Jordan)</td>\n",
       "      <td>Secret Identity</td>\n",
       "      <td>Good Characters</td>\n",
       "      <td>Brown Eyes</td>\n",
       "      <td>Brown Hair</td>\n",
       "      <td>Male Characters</td>\n",
       "      <td>NaN</td>\n",
       "      <td>Living Characters</td>\n",
       "      <td>1565.0</td>\n",
       "      <td>1959, October</td>\n",
       "      <td>1959.0</td>\n",
       "    </tr>\n",
       "    <tr>\n",
       "      <th>3</th>\n",
       "      <td>1659</td>\n",
       "      <td>James Gordon (New Earth)</td>\n",
       "      <td>\\/wiki\\/James_Gordon_(New_Earth)</td>\n",
       "      <td>Public Identity</td>\n",
       "      <td>Good Characters</td>\n",
       "      <td>Brown Eyes</td>\n",
       "      <td>White Hair</td>\n",
       "      <td>Male Characters</td>\n",
       "      <td>NaN</td>\n",
       "      <td>Living Characters</td>\n",
       "      <td>1316.0</td>\n",
       "      <td>1987, February</td>\n",
       "      <td>1987.0</td>\n",
       "    </tr>\n",
       "    <tr>\n",
       "      <th>4</th>\n",
       "      <td>1576</td>\n",
       "      <td>Richard Grayson (New Earth)</td>\n",
       "      <td>\\/wiki\\/Richard_Grayson_(New_Earth)</td>\n",
       "      <td>Secret Identity</td>\n",
       "      <td>Good Characters</td>\n",
       "      <td>Blue Eyes</td>\n",
       "      <td>Black Hair</td>\n",
       "      <td>Male Characters</td>\n",
       "      <td>NaN</td>\n",
       "      <td>Living Characters</td>\n",
       "      <td>1237.0</td>\n",
       "      <td>1940, April</td>\n",
       "      <td>1940.0</td>\n",
       "    </tr>\n",
       "  </tbody>\n",
       "</table>\n",
       "</div>"
      ],
      "text/plain": [
       "   page_id                         name                              urlslug  \\\n",
       "0     1422         Batman (Bruce Wayne)         \\/wiki\\/Batman_(Bruce_Wayne)   \n",
       "1    23387        Superman (Clark Kent)        \\/wiki\\/Superman_(Clark_Kent)   \n",
       "2     1458   Green Lantern (Hal Jordan)   \\/wiki\\/Green_Lantern_(Hal_Jordan)   \n",
       "3     1659     James Gordon (New Earth)     \\/wiki\\/James_Gordon_(New_Earth)   \n",
       "4     1576  Richard Grayson (New Earth)  \\/wiki\\/Richard_Grayson_(New_Earth)   \n",
       "\n",
       "                ID            ALIGN         EYE        HAIR              SEX  \\\n",
       "0  Secret Identity  Good Characters   Blue Eyes  Black Hair  Male Characters   \n",
       "1  Secret Identity  Good Characters   Blue Eyes  Black Hair  Male Characters   \n",
       "2  Secret Identity  Good Characters  Brown Eyes  Brown Hair  Male Characters   \n",
       "3  Public Identity  Good Characters  Brown Eyes  White Hair  Male Characters   \n",
       "4  Secret Identity  Good Characters   Blue Eyes  Black Hair  Male Characters   \n",
       "\n",
       "   GSM              ALIVE  APPEARANCES FIRST APPEARANCE    YEAR  \n",
       "0  NaN  Living Characters       3093.0        1939, May  1939.0  \n",
       "1  NaN  Living Characters       2496.0    1986, October  1986.0  \n",
       "2  NaN  Living Characters       1565.0    1959, October  1959.0  \n",
       "3  NaN  Living Characters       1316.0   1987, February  1987.0  \n",
       "4  NaN  Living Characters       1237.0      1940, April  1940.0  "
      ]
     },
     "execution_count": 42,
     "metadata": {},
     "output_type": "execute_result"
    }
   ],
   "source": [
    "data.head()"
   ]
  },
  {
   "cell_type": "markdown",
   "metadata": {},
   "source": [
    "## Работа с пропусками"
   ]
  },
  {
   "cell_type": "markdown",
   "metadata": {},
   "source": [
    "Оценим количество пропусков чтобы решить, как с ними поступать. "
   ]
  },
  {
   "cell_type": "code",
   "execution_count": 6,
   "metadata": {},
   "outputs": [
    {
     "name": "stdout",
     "output_type": "stream",
     "text": [
      "Колонка ID. Тип данных object. Количество пустых значений 2013, 29.19%.\n",
      "Колонка ALIGN. Тип данных object. Количество пустых значений 601, 8.72%.\n",
      "Колонка EYE. Тип данных object. Количество пустых значений 3628, 52.61%.\n",
      "Колонка HAIR. Тип данных object. Количество пустых значений 2274, 32.98%.\n",
      "Колонка SEX. Тип данных object. Количество пустых значений 125, 1.81%.\n",
      "Колонка GSM. Тип данных object. Количество пустых значений 6832, 99.07%.\n",
      "Колонка ALIVE. Тип данных object. Количество пустых значений 3, 0.04%.\n",
      "Колонка APPEARANCES. Тип данных float64. Количество пустых значений 355, 5.15%.\n",
      "Колонка FIRST APPEARANCE. Тип данных object. Количество пустых значений 69, 1.0%.\n",
      "Колонка YEAR. Тип данных float64. Количество пустых значений 69, 1.0%.\n"
     ]
    }
   ],
   "source": [
    "# Выберем числовые колонки с пропущенными значениями\n",
    "# Цикл по колонкам датасета\n",
    "total_count = data.shape[0]\n",
    "num_cols = []\n",
    "for col in data.columns:\n",
    "    # Количество пустых значений \n",
    "    temp_null_count = data[data[col].isnull()].shape[0]\n",
    "    dt = str(data[col].dtype)\n",
    "    if temp_null_count>0 and (dt=='float64' or dt=='int64' or dt=='object'):\n",
    "        num_cols.append(col)\n",
    "        temp_perc = round((temp_null_count / total_count) * 100.0, 2)\n",
    "        print('Колонка {}. Тип данных {}. Количество пустых значений {}, {}%.'.format(col, dt, temp_null_count, temp_perc))"
   ]
  },
  {
   "cell_type": "markdown",
   "metadata": {},
   "source": [
    "### удаление \n",
    "Удалять будем столбцы  в которых пропусков более 50%, и строки в которых пропусков до 7 %"
   ]
  },
  {
   "cell_type": "code",
   "execution_count": 7,
   "metadata": {},
   "outputs": [],
   "source": [
    "data1 = data.drop(columns=['GSM', 'EYE'])"
   ]
  },
  {
   "cell_type": "code",
   "execution_count": 8,
   "metadata": {},
   "outputs": [],
   "source": [
    "data2 = data1.dropna(subset=['ALIVE', 'YEAR', 'SEX'])"
   ]
  },
  {
   "cell_type": "code",
   "execution_count": 9,
   "metadata": {},
   "outputs": [
    {
     "data": {
      "text/plain": [
       "page_id                0\n",
       "name                   0\n",
       "urlslug                0\n",
       "ID                  1915\n",
       "ALIGN                568\n",
       "HAIR                2131\n",
       "SEX                    0\n",
       "ALIVE                  0\n",
       "APPEARANCES          335\n",
       "FIRST APPEARANCE       0\n",
       "YEAR                   0\n",
       "dtype: int64"
      ]
     },
     "execution_count": 9,
     "metadata": {},
     "output_type": "execute_result"
    }
   ],
   "source": [
    "data2.isnull().sum()"
   ]
  },
  {
   "cell_type": "code",
   "execution_count": 10,
   "metadata": {},
   "outputs": [
    {
     "name": "stdout",
     "output_type": "stream",
     "text": [
      "удалено 195 строки и 2 столбца\n"
     ]
    }
   ],
   "source": [
    "print(f\"удалено {data.shape[0]-data2.shape[0]} строки и {data.shape[1]-data2.shape[1]} столбца\")"
   ]
  },
  {
   "cell_type": "markdown",
   "metadata": {},
   "source": [
    "### заполнение"
   ]
  },
  {
   "cell_type": "markdown",
   "metadata": {},
   "source": [
    "Понятно, что при заполнении нужно придерживаться нескольких правил. Для начала заполним пропуски в числовом критерии appearances"
   ]
  },
  {
   "cell_type": "code",
   "execution_count": 11,
   "metadata": {},
   "outputs": [
    {
     "data": {
      "text/plain": [
       "array([[False],\n",
       "       [False],\n",
       "       [False],\n",
       "       ...,\n",
       "       [ True],\n",
       "       [ True],\n",
       "       [ True]])"
      ]
     },
     "execution_count": 11,
     "metadata": {},
     "output_type": "execute_result"
    }
   ],
   "source": [
    "data2_appearances = data2[['APPEARANCES']]\n",
    "from sklearn.impute import SimpleImputer\n",
    "from sklearn.impute import MissingIndicator\n",
    "indicator = MissingIndicator()\n",
    "mask_missing_values_only = indicator.fit_transform(data2_appearances)\n",
    "mask_missing_values_only"
   ]
  },
  {
   "cell_type": "code",
   "execution_count": 14,
   "metadata": {},
   "outputs": [],
   "source": [
    "strategies=['mean', 'median', 'most_frequent']\n",
    "def test_num_impute(strategy_param):\n",
    "    imp_num = SimpleImputer(strategy=strategy_param)\n",
    "    data_num_imp = imp_num.fit_transform(data2_appearances)\n",
    "    return data_num_imp[mask_missing_values_only]"
   ]
  },
  {
   "cell_type": "code",
   "execution_count": 15,
   "metadata": {},
   "outputs": [
    {
     "data": {
      "text/plain": [
       "('most_frequent',\n",
       " array([1., 1., 1., 1., 1., 1., 1., 1., 1., 1., 1., 1., 1., 1., 1., 1., 1.,\n",
       "        1., 1., 1., 1., 1., 1., 1., 1., 1., 1., 1., 1., 1., 1., 1., 1., 1.,\n",
       "        1., 1., 1., 1., 1., 1., 1., 1., 1., 1., 1., 1., 1., 1., 1., 1., 1.,\n",
       "        1., 1., 1., 1., 1., 1., 1., 1., 1., 1., 1., 1., 1., 1., 1., 1., 1.,\n",
       "        1., 1., 1., 1., 1., 1., 1., 1., 1., 1., 1., 1., 1., 1., 1., 1., 1.,\n",
       "        1., 1., 1., 1., 1., 1., 1., 1., 1., 1., 1., 1., 1., 1., 1., 1., 1.,\n",
       "        1., 1., 1., 1., 1., 1., 1., 1., 1., 1., 1., 1., 1., 1., 1., 1., 1.,\n",
       "        1., 1., 1., 1., 1., 1., 1., 1., 1., 1., 1., 1., 1., 1., 1., 1., 1.,\n",
       "        1., 1., 1., 1., 1., 1., 1., 1., 1., 1., 1., 1., 1., 1., 1., 1., 1.,\n",
       "        1., 1., 1., 1., 1., 1., 1., 1., 1., 1., 1., 1., 1., 1., 1., 1., 1.,\n",
       "        1., 1., 1., 1., 1., 1., 1., 1., 1., 1., 1., 1., 1., 1., 1., 1., 1.,\n",
       "        1., 1., 1., 1., 1., 1., 1., 1., 1., 1., 1., 1., 1., 1., 1., 1., 1.,\n",
       "        1., 1., 1., 1., 1., 1., 1., 1., 1., 1., 1., 1., 1., 1., 1., 1., 1.,\n",
       "        1., 1., 1., 1., 1., 1., 1., 1., 1., 1., 1., 1., 1., 1., 1., 1., 1.,\n",
       "        1., 1., 1., 1., 1., 1., 1., 1., 1., 1., 1., 1., 1., 1., 1., 1., 1.,\n",
       "        1., 1., 1., 1., 1., 1., 1., 1., 1., 1., 1., 1., 1., 1., 1., 1., 1.,\n",
       "        1., 1., 1., 1., 1., 1., 1., 1., 1., 1., 1., 1., 1., 1., 1., 1., 1.,\n",
       "        1., 1., 1., 1., 1., 1., 1., 1., 1., 1., 1., 1., 1., 1., 1., 1., 1.,\n",
       "        1., 1., 1., 1., 1., 1., 1., 1., 1., 1., 1., 1., 1., 1., 1., 1., 1.,\n",
       "        1., 1., 1., 1., 1., 1., 1., 1., 1., 1., 1., 1.]))"
      ]
     },
     "execution_count": 15,
     "metadata": {},
     "output_type": "execute_result"
    }
   ],
   "source": [
    "strategies[2], test_num_impute(strategies[2])"
   ]
  },
  {
   "cell_type": "markdown",
   "metadata": {},
   "source": [
    "Поскольку пропуски в appearances вряд ли будут у часто всттечающихся персонажей, правильнее будет поставить им наиболее встречающееся число - 1. "
   ]
  },
  {
   "cell_type": "code",
   "execution_count": 20,
   "metadata": {},
   "outputs": [],
   "source": [
    "data2.loc[:,'APPEARANCES'] = data2.loc[:,'APPEARANCES'].fillna(value = 1)"
   ]
  },
  {
   "cell_type": "code",
   "execution_count": 21,
   "metadata": {
    "scrolled": true
   },
   "outputs": [
    {
     "data": {
      "text/plain": [
       "page_id                0\n",
       "name                   0\n",
       "urlslug                0\n",
       "ID                  1915\n",
       "ALIGN                568\n",
       "HAIR                2131\n",
       "SEX                    0\n",
       "ALIVE                  0\n",
       "APPEARANCES            0\n",
       "FIRST APPEARANCE       0\n",
       "YEAR                   0\n",
       "dtype: int64"
      ]
     },
     "execution_count": 21,
     "metadata": {},
     "output_type": "execute_result"
    }
   ],
   "source": [
    "data2.isnull().sum()"
   ]
  },
  {
   "cell_type": "markdown",
   "metadata": {},
   "source": [
    "Теперь заполним категориальные признаки. "
   ]
  },
  {
   "cell_type": "code",
   "execution_count": 22,
   "metadata": {},
   "outputs": [],
   "source": [
    "from sklearn.preprocessing import LabelEncoder, OneHotEncoder"
   ]
  },
  {
   "cell_type": "code",
   "execution_count": 23,
   "metadata": {},
   "outputs": [
    {
     "data": {
      "text/plain": [
       "array(['Secret Identity', 'Public Identity', nan, 'Identity Unknown'],\n",
       "      dtype=object)"
      ]
     },
     "execution_count": 23,
     "metadata": {},
     "output_type": "execute_result"
    }
   ],
   "source": [
    "data2['ID'].unique()"
   ]
  },
  {
   "cell_type": "code",
   "execution_count": 24,
   "metadata": {},
   "outputs": [
    {
     "data": {
      "text/plain": [
       "Public Identity     2409\n",
       "Secret Identity     2368\n",
       "Identity Unknown       9\n",
       "Name: ID, dtype: int64"
      ]
     },
     "execution_count": 24,
     "metadata": {},
     "output_type": "execute_result"
    }
   ],
   "source": [
    "data2['ID'].value_counts()"
   ]
  },
  {
   "cell_type": "markdown",
   "metadata": {},
   "source": [
    "Вариантов заполнения 2 - либо заполняем более частым значением, либо же заполяем пунктом Identity unknown, заполним Identity Unknown."
   ]
  },
  {
   "cell_type": "code",
   "execution_count": 25,
   "metadata": {
    "scrolled": true
   },
   "outputs": [],
   "source": [
    "data2.loc[:,'ID'] = data2.loc[:,'ID'].fillna(value = 'Identity Unknown')"
   ]
  },
  {
   "cell_type": "code",
   "execution_count": 26,
   "metadata": {},
   "outputs": [
    {
     "data": {
      "text/plain": [
       "array(['Good Characters', 'Bad Characters', 'Neutral Characters', nan,\n",
       "       'Reformed Criminals'], dtype=object)"
      ]
     },
     "execution_count": 26,
     "metadata": {},
     "output_type": "execute_result"
    }
   ],
   "source": [
    "data2['ALIGN'].unique()"
   ]
  },
  {
   "cell_type": "code",
   "execution_count": 27,
   "metadata": {},
   "outputs": [
    {
     "data": {
      "text/plain": [
       "Bad Characters        2815\n",
       "Good Characters       2765\n",
       "Neutral Characters     550\n",
       "Reformed Criminals       3\n",
       "Name: ALIGN, dtype: int64"
      ]
     },
     "execution_count": 27,
     "metadata": {},
     "output_type": "execute_result"
    }
   ],
   "source": [
    "data2['ALIGN'].value_counts()"
   ]
  },
  {
   "cell_type": "code",
   "execution_count": 28,
   "metadata": {},
   "outputs": [],
   "source": [
    "data2.loc[:,'ALIGN'] = data2.loc[:,'ALIGN'].fillna(value = 'Bad Characters')"
   ]
  },
  {
   "cell_type": "code",
   "execution_count": 29,
   "metadata": {},
   "outputs": [],
   "source": [
    "data2.loc[:,'HAIR'] = data2.loc[:,'HAIR'].fillna(value = 'Unknown Hair')"
   ]
  },
  {
   "cell_type": "code",
   "execution_count": 30,
   "metadata": {},
   "outputs": [
    {
     "data": {
      "text/plain": [
       "page_id             0\n",
       "name                0\n",
       "urlslug             0\n",
       "ID                  0\n",
       "ALIGN               0\n",
       "HAIR                0\n",
       "SEX                 0\n",
       "ALIVE               0\n",
       "APPEARANCES         0\n",
       "FIRST APPEARANCE    0\n",
       "YEAR                0\n",
       "dtype: int64"
      ]
     },
     "execution_count": 30,
     "metadata": {},
     "output_type": "execute_result"
    }
   ],
   "source": [
    "data2.isnull().sum()"
   ]
  },
  {
   "cell_type": "markdown",
   "metadata": {},
   "source": [
    "Пропуски заполнены\n",
    "## Кодирование категориальных признаков\n"
   ]
  },
  {
   "cell_type": "code",
   "execution_count": 32,
   "metadata": {},
   "outputs": [
    {
     "data": {
      "text/plain": [
       "page_id               int64\n",
       "name                 object\n",
       "urlslug              object\n",
       "ID                   object\n",
       "ALIGN                object\n",
       "HAIR                 object\n",
       "SEX                  object\n",
       "ALIVE                object\n",
       "APPEARANCES         float64\n",
       "FIRST APPEARANCE     object\n",
       "YEAR                float64\n",
       "dtype: object"
      ]
     },
     "execution_count": 32,
     "metadata": {},
     "output_type": "execute_result"
    }
   ],
   "source": [
    "data2.dtypes"
   ]
  },
  {
   "cell_type": "code",
   "execution_count": 34,
   "metadata": {},
   "outputs": [
    {
     "name": "stdout",
     "output_type": "stream",
     "text": [
      "['3g4 (New Earth)' '500-ZQ (New Earth)' \"A'Hwiirdh-Paan'A (New Earth)\" ...\n",
      " 'Zyklon (New Earth)' 'Zyn (New Earth)' 'Zzlrrrzzzm (New Earth)']\n"
     ]
    }
   ],
   "source": [
    "from sklearn.preprocessing import LabelEncoder, OneHotEncoder\n",
    "le = LabelEncoder()\n",
    "cat_enc_le = le.fit_transform(data2.loc[:, 'name'])\n",
    "print(le.inverse_transform(np.unique(cat_enc_le)))\n",
    "data2.loc[:, 'name'] = cat_enc_le"
   ]
  },
  {
   "cell_type": "code",
   "execution_count": 35,
   "metadata": {},
   "outputs": [
    {
     "name": "stdout",
     "output_type": "stream",
     "text": [
      "['\\\\/wiki\\\\/3g4_(New_Earth)' '\\\\/wiki\\\\/500-ZQ_(New_Earth)'\n",
      " '\\\\/wiki\\\\/A%27Hwiirdh-Paan%27A_(New_Earth)' ...\n",
      " '\\\\/wiki\\\\/Zyklon_(New_Earth)' '\\\\/wiki\\\\/Zyn_(New_Earth)'\n",
      " '\\\\/wiki\\\\/Zzlrrrzzzm_(New_Earth)']\n"
     ]
    }
   ],
   "source": [
    "le = LabelEncoder()\n",
    "cat_enc_le = le.fit_transform(data2.loc[:, 'urlslug'])\n",
    "print(le.inverse_transform(np.unique(cat_enc_le)))\n",
    "data2.loc[:, 'urlslug'] = cat_enc_le"
   ]
  },
  {
   "cell_type": "code",
   "execution_count": 44,
   "metadata": {
    "scrolled": true
   },
   "outputs": [
    {
     "name": "stdout",
     "output_type": "stream",
     "text": [
      "[0 1 2]\n"
     ]
    }
   ],
   "source": [
    "cat_enc_le = le.fit_transform(data2.loc[:, 'ID'])\n",
    "print(le.inverse_transform(np.unique(cat_enc_le)))\n",
    "data2.loc[:, 'ID'] = cat_enc_le"
   ]
  },
  {
   "cell_type": "code",
   "execution_count": 50,
   "metadata": {},
   "outputs": [
    {
     "name": "stdout",
     "output_type": "stream",
     "text": [
      "['Bad Characters' 'Good Characters' 'Neutral Characters'\n",
      " 'Reformed Criminals']\n"
     ]
    }
   ],
   "source": [
    "cat_enc_le = le.fit_transform(data2.loc[:, 'ALIGN'])\n",
    "print(le.inverse_transform(np.unique(cat_enc_le)))\n",
    "data2.loc[:, 'ALIGN'] = cat_enc_le"
   ]
  },
  {
   "cell_type": "code",
   "execution_count": 45,
   "metadata": {},
   "outputs": [
    {
     "name": "stdout",
     "output_type": "stream",
     "text": [
      "['Black Hair' 'Blond Hair' 'Blue Hair' 'Brown Hair' 'Gold Hair'\n",
      " 'Green Hair' 'Grey Hair' 'Orange Hair' 'Pink Hair' 'Platinum Blond Hair'\n",
      " 'Purple Hair' 'Red Hair' 'Reddish Brown Hair' 'Silver Hair'\n",
      " 'Strawberry Blond Hair' 'Unknown Hair' 'Violet Hair' 'White Hair']\n"
     ]
    }
   ],
   "source": [
    "cat_enc_le = le.fit_transform(data2.loc[:, 'HAIR'])\n",
    "print(le.inverse_transform(np.unique(cat_enc_le)))\n",
    "data2.loc[:, 'HAIR'] = cat_enc_le"
   ]
  },
  {
   "cell_type": "code",
   "execution_count": 46,
   "metadata": {},
   "outputs": [
    {
     "name": "stdout",
     "output_type": "stream",
     "text": [
      "['Female Characters' 'Genderless Characters' 'Male Characters'\n",
      " 'Transgender Characters']\n"
     ]
    }
   ],
   "source": [
    "cat_enc_le = le.fit_transform(data2.loc[:, 'SEX'])\n",
    "print(le.inverse_transform(np.unique(cat_enc_le)))\n",
    "data2.loc[:, 'SEX'] = cat_enc_le"
   ]
  },
  {
   "cell_type": "code",
   "execution_count": 47,
   "metadata": {},
   "outputs": [
    {
     "name": "stdout",
     "output_type": "stream",
     "text": [
      "['Deceased Characters' 'Living Characters']\n"
     ]
    }
   ],
   "source": [
    "cat_enc_le = le.fit_transform(data2.loc[:, 'ALIVE'])\n",
    "print(le.inverse_transform(np.unique(cat_enc_le)))\n",
    "data2.loc[:, 'ALIVE'] = cat_enc_le"
   ]
  },
  {
   "cell_type": "code",
   "execution_count": 48,
   "metadata": {},
   "outputs": [
    {
     "name": "stdout",
     "output_type": "stream",
     "text": [
      "['1935, October' '1936, February' '1936, March' '1936, September'\n",
      " '1937, March' '1938, January' '1938, July' '1938, June' '1938, October'\n",
      " '1939, April' '1939, August' '1939, December' '1939, July' '1939, June'\n",
      " '1939, May' '1939, November' '1939, October' '1939, September' '1940'\n",
      " '1940, April' '1940, December' '1940, February' '1940, January'\n",
      " '1940, July' '1940, June' '1940, March' '1940, May' '1940, November'\n",
      " '1940, October' '1940, September' '1941, April' '1941, August'\n",
      " '1941, December' '1941, February' '1941, January' '1941, July'\n",
      " '1941, June' '1941, May' '1941, November' '1941, October'\n",
      " '1941, September' '1942, April' '1942, August' '1942, December'\n",
      " '1942, February' '1942, January' '1942, June' '1942, March' '1942, May'\n",
      " '1942, November' '1942, September' '1943, April' '1943, August'\n",
      " '1943, December' '1943, February' '1943, January' '1943, July'\n",
      " '1943, March' '1943, November' '1943, September' '1944, December'\n",
      " '1944, February' '1944, January' '1944, June' '1944, March' '1944, May'\n",
      " '1944, October' '1945, April' '1945, August' '1945, December'\n",
      " '1945, March' '1945, September' '1946, April' '1946, August'\n",
      " '1946, December' '1946, January' '1946, June' '1946, May' '1946, October'\n",
      " '1947, April' '1947, August' '1947, December' '1947, February'\n",
      " '1947, June' '1947, May' '1947, November' '1947, October'\n",
      " '1947, September' '1948, April' '1948, August' '1948, December'\n",
      " '1948, February' '1948, January' '1948, June' '1948, May' '1948, October'\n",
      " '1949, December' '1949, February' '1949, November' '1949, September'\n",
      " '1950, August' '1950, December' '1950, July' '1950, June'\n",
      " '1950, September' '1951, February' '1951, June' '1951, May'\n",
      " '1951, November' '1951, October' '1952, August' '1952, February'\n",
      " '1952, June' '1952, September' '1953, January' '1954, April'\n",
      " '1954, January' '1954, November' '1954, September' '1955, February'\n",
      " '1955, January' '1955, March' '1955, November' '1955, September'\n",
      " '1956, April' '1956, December' '1956, February' '1956, May'\n",
      " '1956, October' '1956, September' '1957, April' '1957, August'\n",
      " '1957, December' '1957, February' '1957, January' '1957, July'\n",
      " '1957, June' '1957, September' '1958, April' '1958, August'\n",
      " '1958, December' '1958, March' '1958, May' '1958, November'\n",
      " '1958, September' '1959, April' '1959, August' '1959, December'\n",
      " '1959, February' '1959, January' '1959, July' '1959, June' '1959, March'\n",
      " '1959, May' '1959, November' '1959, October' '1959, September'\n",
      " '1960, August' '1960, December' '1960, February' '1960, January'\n",
      " '1960, July' '1960, June' '1960, March' '1960, May' '1960, November'\n",
      " '1960, October' '1961, April' '1961, August' '1961, December'\n",
      " '1961, January' '1961, July' '1961, June' '1961, March' '1961, May'\n",
      " '1961, November' '1961, October' '1961, September' '1962, April'\n",
      " '1962, August' '1962, December' '1962, February' '1962, July'\n",
      " '1962, June' '1962, March' '1962, May' '1962, November' '1963, August'\n",
      " '1963, December' '1963, February' '1963, January' '1963, July'\n",
      " '1963, June' '1963, May' '1963, November' '1963, October'\n",
      " '1963, September' '1964, August' '1964, December' '1964, February'\n",
      " '1964, January' '1964, July' '1964, June' '1964, March' '1964, November'\n",
      " '1964, October' '1964, September' '1965, April' '1965, August'\n",
      " '1965, December' '1965, February' '1965, January' '1965, July'\n",
      " '1965, June' '1965, March' '1965, May' '1965, November' '1965, October'\n",
      " '1965, September' '1966, April' '1966, August' '1966, December'\n",
      " '1966, February' '1966, January' '1966, July' '1966, June' '1966, March'\n",
      " '1966, May' '1966, November' '1966, October' '1966, September'\n",
      " '1967, April' '1967, August' '1967, December' '1967, February'\n",
      " '1967, January' '1967, July' '1967, June' '1967, March' '1967, October'\n",
      " '1967, September' '1968, April' '1968, August' '1968, December'\n",
      " '1968, February' '1968, January' '1968, July' '1968, June' '1968, March'\n",
      " '1968, May' '1968, November' '1968, October' '1968, September'\n",
      " '1969, August' '1969, December' '1969, February' '1969, January'\n",
      " '1969, July' '1969, March' '1969, May' '1969, November' '1969, October'\n",
      " '1969, September' '1970, April' '1970, August' '1970, December'\n",
      " '1970, February' '1970, January' '1970, July' '1970, June' '1970, May'\n",
      " '1970, November' '1970, October' '1971, April' '1971, December'\n",
      " '1971, February' '1971, January' '1971, July' '1971, June' '1971, March'\n",
      " '1971, May' '1971, November' '1971, October' '1971, September'\n",
      " '1972, April' '1972, August' '1972, December' '1972, February'\n",
      " '1972, January' '1972, July' '1972, June' '1972, March' '1972, May'\n",
      " '1972, November' '1972, October' '1972, September' '1973, April'\n",
      " '1973, August' '1973, February' '1973, January' '1973, July'\n",
      " '1973, March' '1973, November' '1973, September' '1974, April'\n",
      " '1974, August' '1974, December' '1974, February' '1974, July'\n",
      " '1974, June' '1974, March' '1974, November' '1974, October' '1975, April'\n",
      " '1975, August' '1975, December' '1975, July' '1975, June' '1975, March'\n",
      " '1975, May' '1975, November' '1975, October' '1975, September'\n",
      " '1976, April' '1976, August' '1976, December' '1976, February'\n",
      " '1976, January' '1976, July' '1976, June' '1976, March' '1976, May'\n",
      " '1976, November' '1976, October' '1976, September' '1977, April'\n",
      " '1977, August' '1977, December' '1977, February' '1977, July'\n",
      " '1977, June' '1977, March' '1977, May' '1977, November' '1977, September'\n",
      " '1978, April' '1978, December' '1978, February' '1978, January'\n",
      " '1978, July' '1978, June' '1978, March' '1978, May' '1978, November'\n",
      " '1978, October' '1978, September' '1979, April' '1979, August'\n",
      " '1979, December' '1979, February' '1979, January' '1979, July'\n",
      " '1979, June' '1979, March' '1979, May' '1979, November' '1979, October'\n",
      " '1979, September' '1980, April' '1980, December' '1980, February'\n",
      " '1980, January' '1980, July' '1980, June' '1980, May' '1980, November'\n",
      " '1980, October' '1980, September' '1981, April' '1981, August'\n",
      " '1981, December' '1981, February' '1981, January' '1981, July'\n",
      " '1981, June' '1981, March' '1981, May' '1981, November' '1981, October'\n",
      " '1981, September' '1982, April' '1982, August' '1982, December'\n",
      " '1982, February' '1982, January' '1982, July' '1982, June' '1982, March'\n",
      " '1982, May' '1982, November' '1982, October' '1982, September' '1983'\n",
      " '1983, April' '1983, August' '1983, December' '1983, February'\n",
      " '1983, January' '1983, July' '1983, June' '1983, March' '1983, May'\n",
      " '1983, November' '1983, October' '1983, September' '1984' '1984, April'\n",
      " '1984, August' '1984, December' '1984, February' '1984, January'\n",
      " '1984, July' '1984, June' '1984, March' '1984, May' '1984, November'\n",
      " '1984, October' '1984, September' '1985' '1985, April' '1985, August'\n",
      " '1985, December' '1985, February' '1985, January' '1985, July'\n",
      " '1985, June' '1985, March' '1985, May' '1985, November' '1985, October'\n",
      " '1985, September' '1986' '1986, April' '1986, August' '1986, December'\n",
      " '1986, February' '1986, January' '1986, July' '1986, June' '1986, March'\n",
      " '1986, May' '1986, November' '1986, October' '1986, September' '1987'\n",
      " '1987, April' '1987, August' '1987, December' '1987, February'\n",
      " '1987, January' '1987, July' '1987, June' '1987, March' '1987, May'\n",
      " '1987, November' '1987, October' '1987, September' '1988' '1988, April'\n",
      " '1988, August' '1988, December' '1988, February' '1988, Holiday'\n",
      " '1988, January' '1988, July' '1988, June' '1988, March' '1988, May'\n",
      " '1988, November' '1988, October' '1988, September' '1989' '1989, April'\n",
      " '1989, August' '1989, December' '1989, February' '1989, January'\n",
      " '1989, July' '1989, June' '1989, March' '1989, May' '1989, November'\n",
      " '1989, October' '1989, September' '1990' '1990, April' '1990, August'\n",
      " '1990, December' '1990, February' '1990, January' '1990, July'\n",
      " '1990, June' '1990, March' '1990, May' '1990, November' '1990, October'\n",
      " '1990, September' '1991' '1991, April' '1991, August' '1991, December'\n",
      " '1991, February' '1991, January' '1991, July' '1991, June' '1991, March'\n",
      " '1991, May' '1991, November' '1991, October' '1991, September' '1992'\n",
      " '1992, April' '1992, August' '1992, December' '1992, February'\n",
      " '1992, January' '1992, July' '1992, June' '1992, March' '1992, May'\n",
      " '1992, November' '1992, October' '1992, September' '1993' '1993, April'\n",
      " '1993, August' '1993, December' '1993, February' '1993, January'\n",
      " '1993, July' '1993, June' '1993, March' '1993, May' '1993, November'\n",
      " '1993, October' '1993, September' '1994, April' '1994, August'\n",
      " '1994, December' '1994, February' '1994, January' '1994, July'\n",
      " '1994, June' '1994, March' '1994, May' '1994, November' '1994, October'\n",
      " '1994, September' '1995' '1995, April' '1995, August' '1995, December'\n",
      " '1995, February' '1995, January' '1995, July' '1995, June' '1995, March'\n",
      " '1995, May' '1995, November' '1995, October' '1995, September' '1996'\n",
      " '1996, April' '1996, August' '1996, December' '1996, February'\n",
      " '1996, January' '1996, July' '1996, June' '1996, March' '1996, May'\n",
      " '1996, November' '1996, October' '1996, September' '1997' '1997, April'\n",
      " '1997, August' '1997, December' '1997, February' '1997, January'\n",
      " '1997, July' '1997, June' '1997, March' '1997, May' '1997, November'\n",
      " '1997, October' '1997, September' '1998' '1998, April' '1998, August'\n",
      " '1998, December' '1998, February' '1998, January' '1998, July'\n",
      " '1998, June' '1998, March' '1998, May' '1998, November' '1998, October'\n",
      " '1998, September' '1999' '1999, April' '1999, August' '1999, December'\n",
      " '1999, February' '1999, January' '1999, July' '1999, June' '1999, March'\n",
      " '1999, May' '1999, November' '1999, October' '1999, September' '2000'\n",
      " '2000, April' '2000, August' '2000, December' '2000, February'\n",
      " '2000, January' '2000, July' '2000, June' '2000, March' '2000, May'\n",
      " '2000, November' '2000, October' '2000, September' '2001, April'\n",
      " '2001, August' '2001, December' '2001, February' '2001, January'\n",
      " '2001, July' '2001, June' '2001, March' '2001, May' '2001, November'\n",
      " '2001, October' '2001, September' '2002, April' '2002, August'\n",
      " '2002, December' '2002, February' '2002, January' '2002, July'\n",
      " '2002, June' '2002, March' '2002, May' '2002, November' '2002, October'\n",
      " '2002, September' '2003, April' '2003, August' '2003, December'\n",
      " '2003, February' '2003, January' '2003, July' '2003, June' '2003, March'\n",
      " '2003, May' '2003, November' '2003, October' '2003, September'\n",
      " '2004, April' '2004, August' '2004, December' '2004, February'\n",
      " '2004, January' '2004, July' '2004, June' '2004, March' '2004, May'\n",
      " '2004, November' '2004, October' '2004, September' '2005, April'\n",
      " '2005, August' '2005, December' '2005, February' '2005, January'\n",
      " '2005, July' '2005, June' '2005, March' '2005, May' '2005, November'\n",
      " '2005, October' '2005, September' '2006, April' '2006, August'\n",
      " '2006, December' '2006, February' '2006, January' '2006, July'\n",
      " '2006, June' '2006, March' '2006, May' '2006, November' '2006, October'\n",
      " '2006, September' '2007, April' '2007, August' '2007, December'\n",
      " '2007, February' '2007, January' '2007, July' '2007, June' '2007, March'\n",
      " '2007, May' '2007, November' '2007, October' '2007, September'\n",
      " '2008, April' '2008, August' '2008, December' '2008, February'\n",
      " '2008, January' '2008, July' '2008, June' '2008, March' '2008, May'\n",
      " '2008, November' '2008, October' '2008, September' '2009, April'\n",
      " '2009, August' '2009, December' '2009, February' '2009, January'\n",
      " '2009, July' '2009, June' '2009, March' '2009, May' '2009, November'\n",
      " '2009, October' '2009, September' '2010, April' '2010, August'\n",
      " '2010, December' '2010, February' '2010, January' '2010, July'\n",
      " '2010, June' '2010, March' '2010, May' '2010, November' '2010, October'\n",
      " '2010, September' '2011, April' '2011, August' '2011, February'\n",
      " '2011, January' '2011, July' '2011, June' '2011, March' '2011, May'\n",
      " '2011, November' '2011, October' '2011, September' '2012, December'\n",
      " '2012, June' '2012, March' '2012, May' '2013, October']\n"
     ]
    }
   ],
   "source": [
    "cat_enc_le = le.fit_transform(data2.loc[:, 'FIRST APPEARANCE'])\n",
    "print(le.inverse_transform(np.unique(cat_enc_le)))\n",
    "data2.loc[:, 'FIRST APPEARANCE'] = cat_enc_le"
   ]
  },
  {
   "cell_type": "code",
   "execution_count": 51,
   "metadata": {},
   "outputs": [
    {
     "data": {
      "text/plain": [
       "page_id               int64\n",
       "name                  int64\n",
       "urlslug               int32\n",
       "ID                    int64\n",
       "ALIGN                 int32\n",
       "HAIR                  int32\n",
       "SEX                   int32\n",
       "ALIVE                 int32\n",
       "APPEARANCES         float64\n",
       "FIRST APPEARANCE      int32\n",
       "YEAR                float64\n",
       "dtype: object"
      ]
     },
     "execution_count": 51,
     "metadata": {},
     "output_type": "execute_result"
    }
   ],
   "source": [
    "data2.dtypes"
   ]
  },
  {
   "cell_type": "code",
   "execution_count": 52,
   "metadata": {},
   "outputs": [
    {
     "data": {
      "text/html": [
       "<div>\n",
       "<style scoped>\n",
       "    .dataframe tbody tr th:only-of-type {\n",
       "        vertical-align: middle;\n",
       "    }\n",
       "\n",
       "    .dataframe tbody tr th {\n",
       "        vertical-align: top;\n",
       "    }\n",
       "\n",
       "    .dataframe thead th {\n",
       "        text-align: right;\n",
       "    }\n",
       "</style>\n",
       "<table border=\"1\" class=\"dataframe\">\n",
       "  <thead>\n",
       "    <tr style=\"text-align: right;\">\n",
       "      <th></th>\n",
       "      <th>page_id</th>\n",
       "      <th>name</th>\n",
       "      <th>urlslug</th>\n",
       "      <th>ID</th>\n",
       "      <th>ALIGN</th>\n",
       "      <th>HAIR</th>\n",
       "      <th>SEX</th>\n",
       "      <th>ALIVE</th>\n",
       "      <th>APPEARANCES</th>\n",
       "      <th>FIRST APPEARANCE</th>\n",
       "      <th>YEAR</th>\n",
       "    </tr>\n",
       "  </thead>\n",
       "  <tbody>\n",
       "    <tr>\n",
       "      <th>0</th>\n",
       "      <td>1422</td>\n",
       "      <td>583</td>\n",
       "      <td>583</td>\n",
       "      <td>2</td>\n",
       "      <td>1</td>\n",
       "      <td>0</td>\n",
       "      <td>2</td>\n",
       "      <td>1</td>\n",
       "      <td>3093.0</td>\n",
       "      <td>14</td>\n",
       "      <td>1939.0</td>\n",
       "    </tr>\n",
       "    <tr>\n",
       "      <th>1</th>\n",
       "      <td>23387</td>\n",
       "      <td>5830</td>\n",
       "      <td>5830</td>\n",
       "      <td>2</td>\n",
       "      <td>1</td>\n",
       "      <td>0</td>\n",
       "      <td>2</td>\n",
       "      <td>1</td>\n",
       "      <td>2496.0</td>\n",
       "      <td>452</td>\n",
       "      <td>1986.0</td>\n",
       "    </tr>\n",
       "    <tr>\n",
       "      <th>2</th>\n",
       "      <td>1458</td>\n",
       "      <td>2410</td>\n",
       "      <td>2410</td>\n",
       "      <td>2</td>\n",
       "      <td>1</td>\n",
       "      <td>3</td>\n",
       "      <td>2</td>\n",
       "      <td>1</td>\n",
       "      <td>1565.0</td>\n",
       "      <td>155</td>\n",
       "      <td>1959.0</td>\n",
       "    </tr>\n",
       "    <tr>\n",
       "      <th>3</th>\n",
       "      <td>1659</td>\n",
       "      <td>2908</td>\n",
       "      <td>2909</td>\n",
       "      <td>1</td>\n",
       "      <td>1</td>\n",
       "      <td>17</td>\n",
       "      <td>2</td>\n",
       "      <td>1</td>\n",
       "      <td>1316.0</td>\n",
       "      <td>458</td>\n",
       "      <td>1987.0</td>\n",
       "    </tr>\n",
       "    <tr>\n",
       "      <th>4</th>\n",
       "      <td>1576</td>\n",
       "      <td>5123</td>\n",
       "      <td>5123</td>\n",
       "      <td>2</td>\n",
       "      <td>1</td>\n",
       "      <td>0</td>\n",
       "      <td>2</td>\n",
       "      <td>1</td>\n",
       "      <td>1237.0</td>\n",
       "      <td>19</td>\n",
       "      <td>1940.0</td>\n",
       "    </tr>\n",
       "  </tbody>\n",
       "</table>\n",
       "</div>"
      ],
      "text/plain": [
       "   page_id  name  urlslug  ID  ALIGN  HAIR  SEX  ALIVE  APPEARANCES  \\\n",
       "0     1422   583      583   2      1     0    2      1       3093.0   \n",
       "1    23387  5830     5830   2      1     0    2      1       2496.0   \n",
       "2     1458  2410     2410   2      1     3    2      1       1565.0   \n",
       "3     1659  2908     2909   1      1    17    2      1       1316.0   \n",
       "4     1576  5123     5123   2      1     0    2      1       1237.0   \n",
       "\n",
       "   FIRST APPEARANCE    YEAR  \n",
       "0                14  1939.0  \n",
       "1               452  1986.0  \n",
       "2               155  1959.0  \n",
       "3               458  1987.0  \n",
       "4                19  1940.0  "
      ]
     },
     "execution_count": 52,
     "metadata": {},
     "output_type": "execute_result"
    }
   ],
   "source": [
    "data2.head()"
   ]
  },
  {
   "cell_type": "markdown",
   "metadata": {},
   "source": [
    "Все закодировано. \n",
    "## Масштабирование"
   ]
  },
  {
   "cell_type": "code",
   "execution_count": 55,
   "metadata": {},
   "outputs": [
    {
     "data": {
      "text/html": [
       "<div>\n",
       "<style scoped>\n",
       "    .dataframe tbody tr th:only-of-type {\n",
       "        vertical-align: middle;\n",
       "    }\n",
       "\n",
       "    .dataframe tbody tr th {\n",
       "        vertical-align: top;\n",
       "    }\n",
       "\n",
       "    .dataframe thead th {\n",
       "        text-align: right;\n",
       "    }\n",
       "</style>\n",
       "<table border=\"1\" class=\"dataframe\">\n",
       "  <thead>\n",
       "    <tr style=\"text-align: right;\">\n",
       "      <th></th>\n",
       "      <th>page_id</th>\n",
       "      <th>name</th>\n",
       "      <th>urlslug</th>\n",
       "      <th>ID</th>\n",
       "      <th>ALIGN</th>\n",
       "      <th>HAIR</th>\n",
       "      <th>SEX</th>\n",
       "      <th>ALIVE</th>\n",
       "      <th>APPEARANCES</th>\n",
       "      <th>FIRST APPEARANCE</th>\n",
       "      <th>YEAR</th>\n",
       "    </tr>\n",
       "  </thead>\n",
       "  <tbody>\n",
       "    <tr>\n",
       "      <th>count</th>\n",
       "      <td>6701.000000</td>\n",
       "      <td>6701.000000</td>\n",
       "      <td>6701.000000</td>\n",
       "      <td>6701.000000</td>\n",
       "      <td>6701.000000</td>\n",
       "      <td>6701.000000</td>\n",
       "      <td>6701.000000</td>\n",
       "      <td>6701.000000</td>\n",
       "      <td>6701.000000</td>\n",
       "      <td>6701.000000</td>\n",
       "      <td>6701.000000</td>\n",
       "    </tr>\n",
       "    <tr>\n",
       "      <th>mean</th>\n",
       "      <td>146507.050739</td>\n",
       "      <td>3350.000000</td>\n",
       "      <td>3350.000000</td>\n",
       "      <td>1.066259</td>\n",
       "      <td>0.578123</td>\n",
       "      <td>7.362632</td>\n",
       "      <td>1.416356</td>\n",
       "      <td>0.751977</td>\n",
       "      <td>22.884793</td>\n",
       "      <td>506.694523</td>\n",
       "      <td>1989.729145</td>\n",
       "    </tr>\n",
       "    <tr>\n",
       "      <th>std</th>\n",
       "      <td>108109.027918</td>\n",
       "      <td>1934.556409</td>\n",
       "      <td>1934.556409</td>\n",
       "      <td>0.797625</td>\n",
       "      <td>0.640936</td>\n",
       "      <td>6.705654</td>\n",
       "      <td>0.907873</td>\n",
       "      <td>0.431897</td>\n",
       "      <td>86.403863</td>\n",
       "      <td>188.394358</td>\n",
       "      <td>16.853253</td>\n",
       "    </tr>\n",
       "    <tr>\n",
       "      <th>min</th>\n",
       "      <td>1380.000000</td>\n",
       "      <td>0.000000</td>\n",
       "      <td>0.000000</td>\n",
       "      <td>0.000000</td>\n",
       "      <td>0.000000</td>\n",
       "      <td>0.000000</td>\n",
       "      <td>0.000000</td>\n",
       "      <td>0.000000</td>\n",
       "      <td>1.000000</td>\n",
       "      <td>0.000000</td>\n",
       "      <td>1935.000000</td>\n",
       "    </tr>\n",
       "    <tr>\n",
       "      <th>25%</th>\n",
       "      <td>43057.000000</td>\n",
       "      <td>1675.000000</td>\n",
       "      <td>1675.000000</td>\n",
       "      <td>0.000000</td>\n",
       "      <td>0.000000</td>\n",
       "      <td>1.000000</td>\n",
       "      <td>0.000000</td>\n",
       "      <td>1.000000</td>\n",
       "      <td>2.000000</td>\n",
       "      <td>413.000000</td>\n",
       "      <td>1983.000000</td>\n",
       "    </tr>\n",
       "    <tr>\n",
       "      <th>50%</th>\n",
       "      <td>139771.000000</td>\n",
       "      <td>3350.000000</td>\n",
       "      <td>3350.000000</td>\n",
       "      <td>1.000000</td>\n",
       "      <td>0.000000</td>\n",
       "      <td>3.000000</td>\n",
       "      <td>2.000000</td>\n",
       "      <td>1.000000</td>\n",
       "      <td>6.000000</td>\n",
       "      <td>532.000000</td>\n",
       "      <td>1992.000000</td>\n",
       "    </tr>\n",
       "    <tr>\n",
       "      <th>75%</th>\n",
       "      <td>212191.000000</td>\n",
       "      <td>5025.000000</td>\n",
       "      <td>5025.000000</td>\n",
       "      <td>2.000000</td>\n",
       "      <td>1.000000</td>\n",
       "      <td>15.000000</td>\n",
       "      <td>2.000000</td>\n",
       "      <td>1.000000</td>\n",
       "      <td>15.000000</td>\n",
       "      <td>663.000000</td>\n",
       "      <td>2003.000000</td>\n",
       "    </tr>\n",
       "    <tr>\n",
       "      <th>max</th>\n",
       "      <td>404010.000000</td>\n",
       "      <td>6700.000000</td>\n",
       "      <td>6700.000000</td>\n",
       "      <td>2.000000</td>\n",
       "      <td>3.000000</td>\n",
       "      <td>17.000000</td>\n",
       "      <td>3.000000</td>\n",
       "      <td>1.000000</td>\n",
       "      <td>3093.000000</td>\n",
       "      <td>771.000000</td>\n",
       "      <td>2013.000000</td>\n",
       "    </tr>\n",
       "  </tbody>\n",
       "</table>\n",
       "</div>"
      ],
      "text/plain": [
       "             page_id         name      urlslug           ID        ALIGN  \\\n",
       "count    6701.000000  6701.000000  6701.000000  6701.000000  6701.000000   \n",
       "mean   146507.050739  3350.000000  3350.000000     1.066259     0.578123   \n",
       "std    108109.027918  1934.556409  1934.556409     0.797625     0.640936   \n",
       "min      1380.000000     0.000000     0.000000     0.000000     0.000000   \n",
       "25%     43057.000000  1675.000000  1675.000000     0.000000     0.000000   \n",
       "50%    139771.000000  3350.000000  3350.000000     1.000000     0.000000   \n",
       "75%    212191.000000  5025.000000  5025.000000     2.000000     1.000000   \n",
       "max    404010.000000  6700.000000  6700.000000     2.000000     3.000000   \n",
       "\n",
       "              HAIR          SEX        ALIVE  APPEARANCES  FIRST APPEARANCE  \\\n",
       "count  6701.000000  6701.000000  6701.000000  6701.000000       6701.000000   \n",
       "mean      7.362632     1.416356     0.751977    22.884793        506.694523   \n",
       "std       6.705654     0.907873     0.431897    86.403863        188.394358   \n",
       "min       0.000000     0.000000     0.000000     1.000000          0.000000   \n",
       "25%       1.000000     0.000000     1.000000     2.000000        413.000000   \n",
       "50%       3.000000     2.000000     1.000000     6.000000        532.000000   \n",
       "75%      15.000000     2.000000     1.000000    15.000000        663.000000   \n",
       "max      17.000000     3.000000     1.000000  3093.000000        771.000000   \n",
       "\n",
       "              YEAR  \n",
       "count  6701.000000  \n",
       "mean   1989.729145  \n",
       "std      16.853253  \n",
       "min    1935.000000  \n",
       "25%    1983.000000  \n",
       "50%    1992.000000  \n",
       "75%    2003.000000  \n",
       "max    2013.000000  "
      ]
     },
     "execution_count": 55,
     "metadata": {},
     "output_type": "execute_result"
    }
   ],
   "source": [
    "data2.describe()"
   ]
  },
  {
   "cell_type": "code",
   "execution_count": 57,
   "metadata": {},
   "outputs": [],
   "source": [
    "def draw_kde(col_list, df1, df2, label1, label2):\n",
    "    fig, (ax1, ax2) = plt.subplots(\n",
    "        ncols=2, figsize=(12, 5))\n",
    "    # первый график\n",
    "    ax1.set_title(label1)\n",
    "    sns.kdeplot(data=df1[col_list], ax=ax1)\n",
    "    # второй график\n",
    "    ax2.set_title(label2)\n",
    "    sns.kdeplot(data=df2[col_list], ax=ax2)\n",
    "    plt.show()\n",
    "    #draw_kde (['page_id', 'name', 'urlslug', 'ID', 'ALIGN', 'HAIR', 'SEX', 'ALIVE', 'APPEARANCES', 'YEAR', 'FIRST APPEARANCE'], data2, data2, 'still', 'still')"
   ]
  },
  {
   "cell_type": "code",
   "execution_count": 61,
   "metadata": {},
   "outputs": [
    {
     "data": {
      "text/plain": [
       "<AxesSubplot:ylabel='Density'>"
      ]
     },
     "execution_count": 61,
     "metadata": {},
     "output_type": "execute_result"
    },
    {
     "data": {
      "image/png": "[encoded data removed]",
      "text/plain": [
       "<Figure size 720x720 with 1 Axes>"
      ]
     },
     "metadata": {},
     "output_type": "display_data"
    }
   ],
   "source": [
    "plt.figure(figsize = (10, 10))\n",
    "sns.kdeplot(data=data2)"
   ]
  },
  {
   "cell_type": "markdown",
   "metadata": {},
   "source": [
    "Отлично видно, что параметры распределены неравномерно. исправим это. "
   ]
  },
  {
   "cell_type": "code",
   "execution_count": 71,
   "metadata": {},
   "outputs": [],
   "source": [
    "from sklearn.preprocessing import StandardScaler\n",
    "from sklearn.preprocessing import RobustScaler"
   ]
  },
  {
   "cell_type": "code",
   "execution_count": 75,
   "metadata": {},
   "outputs": [
    {
     "data": {
      "text/html": [
       "<div>\n",
       "<style scoped>\n",
       "    .dataframe tbody tr th:only-of-type {\n",
       "        vertical-align: middle;\n",
       "    }\n",
       "\n",
       "    .dataframe tbody tr th {\n",
       "        vertical-align: top;\n",
       "    }\n",
       "\n",
       "    .dataframe thead th {\n",
       "        text-align: right;\n",
       "    }\n",
       "</style>\n",
       "<table border=\"1\" class=\"dataframe\">\n",
       "  <thead>\n",
       "    <tr style=\"text-align: right;\">\n",
       "      <th></th>\n",
       "      <th>page_id</th>\n",
       "      <th>name</th>\n",
       "      <th>urlslug</th>\n",
       "      <th>ID</th>\n",
       "      <th>ALIGN</th>\n",
       "      <th>HAIR</th>\n",
       "      <th>SEX</th>\n",
       "      <th>ALIVE</th>\n",
       "      <th>APPEARANCES</th>\n",
       "      <th>FIRST APPEARANCE</th>\n",
       "      <th>YEAR</th>\n",
       "    </tr>\n",
       "  </thead>\n",
       "  <tbody>\n",
       "    <tr>\n",
       "      <th>0</th>\n",
       "      <td>-1.342125</td>\n",
       "      <td>-1.430409</td>\n",
       "      <td>-1.430409</td>\n",
       "      <td>1.170739</td>\n",
       "      <td>0.65827</td>\n",
       "      <td>-1.098056</td>\n",
       "      <td>0.642918</td>\n",
       "      <td>0.574306</td>\n",
       "      <td>35.534804</td>\n",
       "      <td>-2.615425</td>\n",
       "      <td>-3.010275</td>\n",
       "    </tr>\n",
       "    <tr>\n",
       "      <th>1</th>\n",
       "      <td>-1.138936</td>\n",
       "      <td>1.282043</td>\n",
       "      <td>1.282043</td>\n",
       "      <td>1.170739</td>\n",
       "      <td>0.65827</td>\n",
       "      <td>-1.098056</td>\n",
       "      <td>0.642918</td>\n",
       "      <td>0.574306</td>\n",
       "      <td>28.624875</td>\n",
       "      <td>-0.290341</td>\n",
       "      <td>-0.221288</td>\n",
       "    </tr>\n",
       "    <tr>\n",
       "      <th>2</th>\n",
       "      <td>-1.341792</td>\n",
       "      <td>-0.485936</td>\n",
       "      <td>-0.485936</td>\n",
       "      <td>1.170739</td>\n",
       "      <td>0.65827</td>\n",
       "      <td>-0.650639</td>\n",
       "      <td>0.642918</td>\n",
       "      <td>0.574306</td>\n",
       "      <td>17.849089</td>\n",
       "      <td>-1.866939</td>\n",
       "      <td>-1.823472</td>\n",
       "    </tr>\n",
       "    <tr>\n",
       "      <th>3</th>\n",
       "      <td>-1.339933</td>\n",
       "      <td>-0.228493</td>\n",
       "      <td>-0.227976</td>\n",
       "      <td>-0.083076</td>\n",
       "      <td>0.65827</td>\n",
       "      <td>1.437308</td>\n",
       "      <td>0.642918</td>\n",
       "      <td>0.574306</td>\n",
       "      <td>14.967059</td>\n",
       "      <td>-0.258491</td>\n",
       "      <td>-0.161948</td>\n",
       "    </tr>\n",
       "    <tr>\n",
       "      <th>4</th>\n",
       "      <td>-1.340701</td>\n",
       "      <td>0.916558</td>\n",
       "      <td>0.916558</td>\n",
       "      <td>1.170739</td>\n",
       "      <td>0.65827</td>\n",
       "      <td>-1.098056</td>\n",
       "      <td>0.642918</td>\n",
       "      <td>0.574306</td>\n",
       "      <td>14.052680</td>\n",
       "      <td>-2.588883</td>\n",
       "      <td>-2.950935</td>\n",
       "    </tr>\n",
       "  </tbody>\n",
       "</table>\n",
       "</div>"
      ],
      "text/plain": [
       "    page_id      name   urlslug        ID    ALIGN      HAIR       SEX  \\\n",
       "0 -1.342125 -1.430409 -1.430409  1.170739  0.65827 -1.098056  0.642918   \n",
       "1 -1.138936  1.282043  1.282043  1.170739  0.65827 -1.098056  0.642918   \n",
       "2 -1.341792 -0.485936 -0.485936  1.170739  0.65827 -0.650639  0.642918   \n",
       "3 -1.339933 -0.228493 -0.227976 -0.083076  0.65827  1.437308  0.642918   \n",
       "4 -1.340701  0.916558  0.916558  1.170739  0.65827 -1.098056  0.642918   \n",
       "\n",
       "      ALIVE  APPEARANCES  FIRST APPEARANCE      YEAR  \n",
       "0  0.574306    35.534804         -2.615425 -3.010275  \n",
       "1  0.574306    28.624875         -0.290341 -0.221288  \n",
       "2  0.574306    17.849089         -1.866939 -1.823472  \n",
       "3  0.574306    14.967059         -0.258491 -0.161948  \n",
       "4  0.574306    14.052680         -2.588883 -2.950935  "
      ]
     },
     "execution_count": 75,
     "metadata": {},
     "output_type": "execute_result"
    }
   ],
   "source": [
    "# Обучаем StandardScaler на всей выборке и масштабируем\n",
    "cs11 = StandardScaler()\n",
    "data_cs11_scaled_temp = cs11.fit_transform(data2)\n",
    "# формируем DataFrame на основе массива\n",
    "data_cs11_scaled =  pd.DataFrame(data_cs11_scaled_temp, columns=data2.columns)\n",
    "data_cs11_scaled.head()"
   ]
  },
  {
   "cell_type": "code",
   "execution_count": 68,
   "metadata": {},
   "outputs": [
    {
     "data": {
      "image/png": "[encoded data removed]",
      "text/plain": [
       "<Figure size 864x360 with 2 Axes>"
      ]
     },
     "metadata": {},
     "output_type": "display_data"
    }
   ],
   "source": [
    "draw_kde(['page_id', 'name', 'urlslug', 'ID', 'ALIGN', 'HAIR', 'SEX', 'ALIVE', 'APPEARANCES', 'YEAR', 'FIRST APPEARANCE'], data2, data_cs11_scaled, 'before', 'after')"
   ]
  },
  {
   "cell_type": "markdown",
   "metadata": {},
   "source": [
    "Как видно, масштабироание прошло успешно, поскольку теперь разница гораздо заметнее."
   ]
  },
  {
   "cell_type": "code",
   "execution_count": 78,
   "metadata": {},
   "outputs": [
    {
     "data": {
      "text/html": [
       "<div>\n",
       "<style scoped>\n",
       "    .dataframe tbody tr th:only-of-type {\n",
       "        vertical-align: middle;\n",
       "    }\n",
       "\n",
       "    .dataframe tbody tr th {\n",
       "        vertical-align: top;\n",
       "    }\n",
       "\n",
       "    .dataframe thead th {\n",
       "        text-align: right;\n",
       "    }\n",
       "</style>\n",
       "<table border=\"1\" class=\"dataframe\">\n",
       "  <thead>\n",
       "    <tr style=\"text-align: right;\">\n",
       "      <th></th>\n",
       "      <th>page_id</th>\n",
       "      <th>name</th>\n",
       "      <th>urlslug</th>\n",
       "      <th>ID</th>\n",
       "      <th>ALIGN</th>\n",
       "      <th>HAIR</th>\n",
       "      <th>SEX</th>\n",
       "      <th>ALIVE</th>\n",
       "      <th>APPEARANCES</th>\n",
       "      <th>FIRST APPEARANCE</th>\n",
       "      <th>YEAR</th>\n",
       "    </tr>\n",
       "  </thead>\n",
       "  <tbody>\n",
       "    <tr>\n",
       "      <th>page_id</th>\n",
       "      <td>1.000000</td>\n",
       "      <td>-0.005713</td>\n",
       "      <td>-0.005714</td>\n",
       "      <td>-0.164841</td>\n",
       "      <td>-0.027130</td>\n",
       "      <td>0.034827</td>\n",
       "      <td>-0.070401</td>\n",
       "      <td>0.028640</td>\n",
       "      <td>-0.236994</td>\n",
       "      <td>0.253672</td>\n",
       "      <td>0.253560</td>\n",
       "    </tr>\n",
       "    <tr>\n",
       "      <th>name</th>\n",
       "      <td>-0.005713</td>\n",
       "      <td>1.000000</td>\n",
       "      <td>1.000000</td>\n",
       "      <td>-0.003745</td>\n",
       "      <td>0.006856</td>\n",
       "      <td>0.006946</td>\n",
       "      <td>0.022336</td>\n",
       "      <td>0.002052</td>\n",
       "      <td>0.003869</td>\n",
       "      <td>-0.021682</td>\n",
       "      <td>-0.023463</td>\n",
       "    </tr>\n",
       "    <tr>\n",
       "      <th>urlslug</th>\n",
       "      <td>-0.005714</td>\n",
       "      <td>1.000000</td>\n",
       "      <td>1.000000</td>\n",
       "      <td>-0.003749</td>\n",
       "      <td>0.006852</td>\n",
       "      <td>0.006949</td>\n",
       "      <td>0.022338</td>\n",
       "      <td>0.002051</td>\n",
       "      <td>0.003871</td>\n",
       "      <td>-0.021687</td>\n",
       "      <td>-0.023468</td>\n",
       "    </tr>\n",
       "    <tr>\n",
       "      <th>ID</th>\n",
       "      <td>-0.164841</td>\n",
       "      <td>-0.003745</td>\n",
       "      <td>-0.003749</td>\n",
       "      <td>1.000000</td>\n",
       "      <td>-0.035527</td>\n",
       "      <td>-0.081372</td>\n",
       "      <td>0.028266</td>\n",
       "      <td>-0.034174</td>\n",
       "      <td>0.110948</td>\n",
       "      <td>0.020654</td>\n",
       "      <td>0.011161</td>\n",
       "    </tr>\n",
       "    <tr>\n",
       "      <th>ALIGN</th>\n",
       "      <td>-0.027130</td>\n",
       "      <td>0.006856</td>\n",
       "      <td>0.006852</td>\n",
       "      <td>-0.035527</td>\n",
       "      <td>1.000000</td>\n",
       "      <td>-0.132652</td>\n",
       "      <td>-0.106437</td>\n",
       "      <td>0.047900</td>\n",
       "      <td>0.093915</td>\n",
       "      <td>-0.059530</td>\n",
       "      <td>-0.059715</td>\n",
       "    </tr>\n",
       "    <tr>\n",
       "      <th>HAIR</th>\n",
       "      <td>0.034827</td>\n",
       "      <td>0.006946</td>\n",
       "      <td>0.006949</td>\n",
       "      <td>-0.081372</td>\n",
       "      <td>-0.132652</td>\n",
       "      <td>1.000000</td>\n",
       "      <td>0.146174</td>\n",
       "      <td>-0.012848</td>\n",
       "      <td>-0.072017</td>\n",
       "      <td>0.023376</td>\n",
       "      <td>0.026616</td>\n",
       "    </tr>\n",
       "    <tr>\n",
       "      <th>SEX</th>\n",
       "      <td>-0.070401</td>\n",
       "      <td>0.022336</td>\n",
       "      <td>0.022338</td>\n",
       "      <td>0.028266</td>\n",
       "      <td>-0.106437</td>\n",
       "      <td>0.146174</td>\n",
       "      <td>1.000000</td>\n",
       "      <td>-0.070045</td>\n",
       "      <td>0.009033</td>\n",
       "      <td>-0.107070</td>\n",
       "      <td>-0.109871</td>\n",
       "    </tr>\n",
       "    <tr>\n",
       "      <th>ALIVE</th>\n",
       "      <td>0.028640</td>\n",
       "      <td>0.002052</td>\n",
       "      <td>0.002051</td>\n",
       "      <td>-0.034174</td>\n",
       "      <td>0.047900</td>\n",
       "      <td>-0.012848</td>\n",
       "      <td>-0.070045</td>\n",
       "      <td>1.000000</td>\n",
       "      <td>0.017544</td>\n",
       "      <td>0.048810</td>\n",
       "      <td>0.047527</td>\n",
       "    </tr>\n",
       "    <tr>\n",
       "      <th>APPEARANCES</th>\n",
       "      <td>-0.236994</td>\n",
       "      <td>0.003869</td>\n",
       "      <td>0.003871</td>\n",
       "      <td>0.110948</td>\n",
       "      <td>0.093915</td>\n",
       "      <td>-0.072017</td>\n",
       "      <td>0.009033</td>\n",
       "      <td>0.017544</td>\n",
       "      <td>1.000000</td>\n",
       "      <td>-0.238503</td>\n",
       "      <td>-0.247670</td>\n",
       "    </tr>\n",
       "    <tr>\n",
       "      <th>FIRST APPEARANCE</th>\n",
       "      <td>0.253672</td>\n",
       "      <td>-0.021682</td>\n",
       "      <td>-0.021687</td>\n",
       "      <td>0.020654</td>\n",
       "      <td>-0.059530</td>\n",
       "      <td>0.023376</td>\n",
       "      <td>-0.107070</td>\n",
       "      <td>0.048810</td>\n",
       "      <td>-0.238503</td>\n",
       "      <td>1.000000</td>\n",
       "      <td>0.993906</td>\n",
       "    </tr>\n",
       "    <tr>\n",
       "      <th>YEAR</th>\n",
       "      <td>0.253560</td>\n",
       "      <td>-0.023463</td>\n",
       "      <td>-0.023468</td>\n",
       "      <td>0.011161</td>\n",
       "      <td>-0.059715</td>\n",
       "      <td>0.026616</td>\n",
       "      <td>-0.109871</td>\n",
       "      <td>0.047527</td>\n",
       "      <td>-0.247670</td>\n",
       "      <td>0.993906</td>\n",
       "      <td>1.000000</td>\n",
       "    </tr>\n",
       "  </tbody>\n",
       "</table>\n",
       "</div>"
      ],
      "text/plain": [
       "                   page_id      name   urlslug        ID     ALIGN      HAIR  \\\n",
       "page_id           1.000000 -0.005713 -0.005714 -0.164841 -0.027130  0.034827   \n",
       "name             -0.005713  1.000000  1.000000 -0.003745  0.006856  0.006946   \n",
       "urlslug          -0.005714  1.000000  1.000000 -0.003749  0.006852  0.006949   \n",
       "ID               -0.164841 -0.003745 -0.003749  1.000000 -0.035527 -0.081372   \n",
       "ALIGN            -0.027130  0.006856  0.006852 -0.035527  1.000000 -0.132652   \n",
       "HAIR              0.034827  0.006946  0.006949 -0.081372 -0.132652  1.000000   \n",
       "SEX              -0.070401  0.022336  0.022338  0.028266 -0.106437  0.146174   \n",
       "ALIVE             0.028640  0.002052  0.002051 -0.034174  0.047900 -0.012848   \n",
       "APPEARANCES      -0.236994  0.003869  0.003871  0.110948  0.093915 -0.072017   \n",
       "FIRST APPEARANCE  0.253672 -0.021682 -0.021687  0.020654 -0.059530  0.023376   \n",
       "YEAR              0.253560 -0.023463 -0.023468  0.011161 -0.059715  0.026616   \n",
       "\n",
       "                       SEX     ALIVE  APPEARANCES  FIRST APPEARANCE      YEAR  \n",
       "page_id          -0.070401  0.028640    -0.236994          0.253672  0.253560  \n",
       "name              0.022336  0.002052     0.003869         -0.021682 -0.023463  \n",
       "urlslug           0.022338  0.002051     0.003871         -0.021687 -0.023468  \n",
       "ID                0.028266 -0.034174     0.110948          0.020654  0.011161  \n",
       "ALIGN            -0.106437  0.047900     0.093915         -0.059530 -0.059715  \n",
       "HAIR              0.146174 -0.012848    -0.072017          0.023376  0.026616  \n",
       "SEX               1.000000 -0.070045     0.009033         -0.107070 -0.109871  \n",
       "ALIVE            -0.070045  1.000000     0.017544          0.048810  0.047527  \n",
       "APPEARANCES       0.009033  0.017544     1.000000         -0.238503 -0.247670  \n",
       "FIRST APPEARANCE -0.107070  0.048810    -0.238503          1.000000  0.993906  \n",
       "YEAR             -0.109871  0.047527    -0.247670          0.993906  1.000000  "
      ]
     },
     "execution_count": 78,
     "metadata": {},
     "output_type": "execute_result"
    }
   ],
   "source": [
    "data_cs11_scaled.corr()"
   ]
  },
  {
   "cell_type": "code",
   "execution_count": 79,
   "metadata": {},
   "outputs": [
    {
     "data": {
      "text/html": [
       "<div>\n",
       "<style scoped>\n",
       "    .dataframe tbody tr th:only-of-type {\n",
       "        vertical-align: middle;\n",
       "    }\n",
       "\n",
       "    .dataframe tbody tr th {\n",
       "        vertical-align: top;\n",
       "    }\n",
       "\n",
       "    .dataframe thead th {\n",
       "        text-align: right;\n",
       "    }\n",
       "</style>\n",
       "<table border=\"1\" class=\"dataframe\">\n",
       "  <thead>\n",
       "    <tr style=\"text-align: right;\">\n",
       "      <th></th>\n",
       "      <th>page_id</th>\n",
       "      <th>name</th>\n",
       "      <th>urlslug</th>\n",
       "      <th>ID</th>\n",
       "      <th>ALIGN</th>\n",
       "      <th>HAIR</th>\n",
       "      <th>SEX</th>\n",
       "      <th>ALIVE</th>\n",
       "      <th>APPEARANCES</th>\n",
       "      <th>FIRST APPEARANCE</th>\n",
       "      <th>YEAR</th>\n",
       "    </tr>\n",
       "  </thead>\n",
       "  <tbody>\n",
       "    <tr>\n",
       "      <th>page_id</th>\n",
       "      <td>1.000000</td>\n",
       "      <td>-0.005713</td>\n",
       "      <td>-0.005714</td>\n",
       "      <td>-0.164841</td>\n",
       "      <td>-0.027130</td>\n",
       "      <td>0.034827</td>\n",
       "      <td>-0.070401</td>\n",
       "      <td>0.028640</td>\n",
       "      <td>-0.236994</td>\n",
       "      <td>0.253672</td>\n",
       "      <td>0.253560</td>\n",
       "    </tr>\n",
       "    <tr>\n",
       "      <th>name</th>\n",
       "      <td>-0.005713</td>\n",
       "      <td>1.000000</td>\n",
       "      <td>1.000000</td>\n",
       "      <td>-0.003745</td>\n",
       "      <td>0.006856</td>\n",
       "      <td>0.006946</td>\n",
       "      <td>0.022336</td>\n",
       "      <td>0.002052</td>\n",
       "      <td>0.003869</td>\n",
       "      <td>-0.021682</td>\n",
       "      <td>-0.023463</td>\n",
       "    </tr>\n",
       "    <tr>\n",
       "      <th>urlslug</th>\n",
       "      <td>-0.005714</td>\n",
       "      <td>1.000000</td>\n",
       "      <td>1.000000</td>\n",
       "      <td>-0.003749</td>\n",
       "      <td>0.006852</td>\n",
       "      <td>0.006949</td>\n",
       "      <td>0.022338</td>\n",
       "      <td>0.002051</td>\n",
       "      <td>0.003871</td>\n",
       "      <td>-0.021687</td>\n",
       "      <td>-0.023468</td>\n",
       "    </tr>\n",
       "    <tr>\n",
       "      <th>ID</th>\n",
       "      <td>-0.164841</td>\n",
       "      <td>-0.003745</td>\n",
       "      <td>-0.003749</td>\n",
       "      <td>1.000000</td>\n",
       "      <td>-0.035527</td>\n",
       "      <td>-0.081372</td>\n",
       "      <td>0.028266</td>\n",
       "      <td>-0.034174</td>\n",
       "      <td>0.110948</td>\n",
       "      <td>0.020654</td>\n",
       "      <td>0.011161</td>\n",
       "    </tr>\n",
       "    <tr>\n",
       "      <th>ALIGN</th>\n",
       "      <td>-0.027130</td>\n",
       "      <td>0.006856</td>\n",
       "      <td>0.006852</td>\n",
       "      <td>-0.035527</td>\n",
       "      <td>1.000000</td>\n",
       "      <td>-0.132652</td>\n",
       "      <td>-0.106437</td>\n",
       "      <td>0.047900</td>\n",
       "      <td>0.093915</td>\n",
       "      <td>-0.059530</td>\n",
       "      <td>-0.059715</td>\n",
       "    </tr>\n",
       "    <tr>\n",
       "      <th>HAIR</th>\n",
       "      <td>0.034827</td>\n",
       "      <td>0.006946</td>\n",
       "      <td>0.006949</td>\n",
       "      <td>-0.081372</td>\n",
       "      <td>-0.132652</td>\n",
       "      <td>1.000000</td>\n",
       "      <td>0.146174</td>\n",
       "      <td>-0.012848</td>\n",
       "      <td>-0.072017</td>\n",
       "      <td>0.023376</td>\n",
       "      <td>0.026616</td>\n",
       "    </tr>\n",
       "    <tr>\n",
       "      <th>SEX</th>\n",
       "      <td>-0.070401</td>\n",
       "      <td>0.022336</td>\n",
       "      <td>0.022338</td>\n",
       "      <td>0.028266</td>\n",
       "      <td>-0.106437</td>\n",
       "      <td>0.146174</td>\n",
       "      <td>1.000000</td>\n",
       "      <td>-0.070045</td>\n",
       "      <td>0.009033</td>\n",
       "      <td>-0.107070</td>\n",
       "      <td>-0.109871</td>\n",
       "    </tr>\n",
       "    <tr>\n",
       "      <th>ALIVE</th>\n",
       "      <td>0.028640</td>\n",
       "      <td>0.002052</td>\n",
       "      <td>0.002051</td>\n",
       "      <td>-0.034174</td>\n",
       "      <td>0.047900</td>\n",
       "      <td>-0.012848</td>\n",
       "      <td>-0.070045</td>\n",
       "      <td>1.000000</td>\n",
       "      <td>0.017544</td>\n",
       "      <td>0.048810</td>\n",
       "      <td>0.047527</td>\n",
       "    </tr>\n",
       "    <tr>\n",
       "      <th>APPEARANCES</th>\n",
       "      <td>-0.236994</td>\n",
       "      <td>0.003869</td>\n",
       "      <td>0.003871</td>\n",
       "      <td>0.110948</td>\n",
       "      <td>0.093915</td>\n",
       "      <td>-0.072017</td>\n",
       "      <td>0.009033</td>\n",
       "      <td>0.017544</td>\n",
       "      <td>1.000000</td>\n",
       "      <td>-0.238503</td>\n",
       "      <td>-0.247670</td>\n",
       "    </tr>\n",
       "    <tr>\n",
       "      <th>FIRST APPEARANCE</th>\n",
       "      <td>0.253672</td>\n",
       "      <td>-0.021682</td>\n",
       "      <td>-0.021687</td>\n",
       "      <td>0.020654</td>\n",
       "      <td>-0.059530</td>\n",
       "      <td>0.023376</td>\n",
       "      <td>-0.107070</td>\n",
       "      <td>0.048810</td>\n",
       "      <td>-0.238503</td>\n",
       "      <td>1.000000</td>\n",
       "      <td>0.993906</td>\n",
       "    </tr>\n",
       "    <tr>\n",
       "      <th>YEAR</th>\n",
       "      <td>0.253560</td>\n",
       "      <td>-0.023463</td>\n",
       "      <td>-0.023468</td>\n",
       "      <td>0.011161</td>\n",
       "      <td>-0.059715</td>\n",
       "      <td>0.026616</td>\n",
       "      <td>-0.109871</td>\n",
       "      <td>0.047527</td>\n",
       "      <td>-0.247670</td>\n",
       "      <td>0.993906</td>\n",
       "      <td>1.000000</td>\n",
       "    </tr>\n",
       "  </tbody>\n",
       "</table>\n",
       "</div>"
      ],
      "text/plain": [
       "                   page_id      name   urlslug        ID     ALIGN      HAIR  \\\n",
       "page_id           1.000000 -0.005713 -0.005714 -0.164841 -0.027130  0.034827   \n",
       "name             -0.005713  1.000000  1.000000 -0.003745  0.006856  0.006946   \n",
       "urlslug          -0.005714  1.000000  1.000000 -0.003749  0.006852  0.006949   \n",
       "ID               -0.164841 -0.003745 -0.003749  1.000000 -0.035527 -0.081372   \n",
       "ALIGN            -0.027130  0.006856  0.006852 -0.035527  1.000000 -0.132652   \n",
       "HAIR              0.034827  0.006946  0.006949 -0.081372 -0.132652  1.000000   \n",
       "SEX              -0.070401  0.022336  0.022338  0.028266 -0.106437  0.146174   \n",
       "ALIVE             0.028640  0.002052  0.002051 -0.034174  0.047900 -0.012848   \n",
       "APPEARANCES      -0.236994  0.003869  0.003871  0.110948  0.093915 -0.072017   \n",
       "FIRST APPEARANCE  0.253672 -0.021682 -0.021687  0.020654 -0.059530  0.023376   \n",
       "YEAR              0.253560 -0.023463 -0.023468  0.011161 -0.059715  0.026616   \n",
       "\n",
       "                       SEX     ALIVE  APPEARANCES  FIRST APPEARANCE      YEAR  \n",
       "page_id          -0.070401  0.028640    -0.236994          0.253672  0.253560  \n",
       "name              0.022336  0.002052     0.003869         -0.021682 -0.023463  \n",
       "urlslug           0.022338  0.002051     0.003871         -0.021687 -0.023468  \n",
       "ID                0.028266 -0.034174     0.110948          0.020654  0.011161  \n",
       "ALIGN            -0.106437  0.047900     0.093915         -0.059530 -0.059715  \n",
       "HAIR              0.146174 -0.012848    -0.072017          0.023376  0.026616  \n",
       "SEX               1.000000 -0.070045     0.009033         -0.107070 -0.109871  \n",
       "ALIVE            -0.070045  1.000000     0.017544          0.048810  0.047527  \n",
       "APPEARANCES       0.009033  0.017544     1.000000         -0.238503 -0.247670  \n",
       "FIRST APPEARANCE -0.107070  0.048810    -0.238503          1.000000  0.993906  \n",
       "YEAR             -0.109871  0.047527    -0.247670          0.993906  1.000000  "
      ]
     },
     "execution_count": 79,
     "metadata": {},
     "output_type": "execute_result"
    }
   ],
   "source": [
    "data2.corr()"
   ]
  },
  {
   "cell_type": "markdown",
   "metadata": {},
   "source": [
    "При этом важно заметить, что кореляционная матрица не изменилась."
   ]
  }
 ],
 "metadata": {
  "kernelspec": {
   "display_name": "Python 3",
   "language": "python",
   "name": "python3"
  },
  "language_info": {
   "codemirror_mode": {
    "name": "ipython",
    "version": 3
   },
   "file_extension": ".py",
   "mimetype": "text/x-python",
   "name": "python",
   "nbconvert_exporter": "python",
   "pygments_lexer": "ipython3",
   "version": "3.8.5"
  }
 },
 "nbformat": 4,
 "nbformat_minor": 4
}
